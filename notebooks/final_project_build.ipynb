{
 "cells": [
  {
   "cell_type": "code",
   "execution_count": 12,
   "metadata": {
    "collapsed": true
   },
   "outputs": [],
   "source": [
    "import pandas as pd\n",
    "import numpy as np\n",
    "\n",
    "import requests as rq\n",
    "from bs4 import BeautifulSoup\n",
    "import smtplib"
   ]
  },
  {
   "cell_type": "code",
   "execution_count": 1,
   "metadata": {
    "collapsed": true
   },
   "outputs": [],
   "source": [
    "from campsiteFinder import source"
   ]
  },
  {
   "cell_type": "code",
   "execution_count": 2,
   "metadata": {},
   "outputs": [],
   "source": [
    "source.asktoRepeat?"
   ]
  },
  {
   "cell_type": "code",
   "execution_count": 6,
   "metadata": {
    "collapsed": true
   },
   "outputs": [],
   "source": [
    "from campsiteFinder import keys"
   ]
  },
  {
   "cell_type": "code",
   "execution_count": 7,
   "metadata": {},
   "outputs": [
    {
     "data": {
      "text/plain": [
       "'passTHEword'"
      ]
     },
     "execution_count": 7,
     "metadata": {},
     "output_type": "execute_result"
    }
   ],
   "source": [
    "keys.email_pw"
   ]
  },
  {
   "cell_type": "code",
   "execution_count": 44,
   "metadata": {
    "collapsed": true
   },
   "outputs": [],
   "source": [
    "def email(location, date, body1, link, dest_email):\n",
    "    '''connects to gmail account and sends alert e-mail to user with reservation link.\n",
    "\n",
    "    Parameters\n",
    "    =================\n",
    "    location:       str\n",
    "                    location of the found site\n",
    "\n",
    "    date            str\n",
    "                    date of the found reservation\n",
    "\n",
    "    body1           str\n",
    "                    additional information about the reservation\n",
    "\n",
    "    link            str\n",
    "                    URL to reservation page\n",
    "\n",
    "    dest_email      str\n",
    "                    user supplied email to send alert\n",
    "\n",
    "    Outputs\n",
    "    =================\n",
    "    E-mail is sent to user or failure message\n",
    "\n",
    "    '''\n",
    "    \n",
    "    try:\n",
    "        gmail_user =  keys.email_un\n",
    "        gmail_password = keys.email_pw\n",
    "\n",
    "    except AttributeError:\n",
    "        print(\"Check E-mail account log in information in source file, e-mail alerts are disabeled until this\"\n",
    "                  \" issue is resolved, please follow the link in the terminal screen for your reservation\")\n",
    "    except NameError:\n",
    "        print(\"Check E-mail account log in information in source file, e-mail alerts are disabeled until this\"\n",
    "                  \" issue is resolved, please follow the link in the terminal screen for your reservation\")\n",
    "        \n",
    "\n",
    "    else:\n",
    "\n",
    "\n",
    "        sent_from = 'Campsite Finder 1.0'\n",
    "        to = dest_email\n",
    "        subject = 'Campsite at '+location+' on '+date\n",
    "        body = \"On \"+date+\" at \"+location+' there are/is '+body1+'. To book this site click on the following link '+link\n",
    "\n",
    "        email_text = \"\"\"\\\n",
    "        From: %s\n",
    "        To: %s\n",
    "        Subject: %s\n",
    "\n",
    "        %s\n",
    "        \"\"\" % (sent_from, to, subject, body)\n",
    "\n",
    "        try:\n",
    "            server = smtplib.SMTP_SSL('smtp.gmail.com', 465)\n",
    "            server.ehlo()\n",
    "            server.login(gmail_user, gmail_password)\n",
    "            server.sendmail(sent_from, to, email_text)\n",
    "            server.close()\n",
    "\n",
    "            print( 'Email sent!')\n",
    "        except:\n",
    "            print( 'Something went wrong...')\n",
    "\n",
    "        "
   ]
  },
  {
   "cell_type": "code",
   "execution_count": 45,
   "metadata": {},
   "outputs": [
    {
     "name": "stdout",
     "output_type": "stream",
     "text": [
      "Check E-mail account log in information in source file, e-mail alerts are disabeled until this issue is resolved, please follow the link in the terminal screen for your reservation\n"
     ]
    }
   ],
   "source": [
    "email('swiss', '1234', 'test', 'test', 'joe.vanderlip@gmail.com')"
   ]
  },
  {
   "cell_type": "code",
   "execution_count": null,
   "metadata": {
    "collapsed": true
   },
   "outputs": [],
   "source": []
  },
  {
   "cell_type": "code",
   "execution_count": null,
   "metadata": {
    "collapsed": true
   },
   "outputs": [],
   "source": [
    "def intList(strlist):\n",
    "    site_list = []\n",
    "    for s in strlist: #.split(' '):\n",
    "        site_list.append(int(s)-1)\n",
    "    return site_list"
   ]
  },
  {
   "cell_type": "code",
   "execution_count": null,
   "metadata": {
    "collapsed": true
   },
   "outputs": [],
   "source": []
  },
  {
   "cell_type": "code",
   "execution_count": 35,
   "metadata": {
    "collapsed": true
   },
   "outputs": [],
   "source": [
    "test_list =['2', '1', '1', '1', '2', '3']\n",
    "hold_list = []"
   ]
  },
  {
   "cell_type": "code",
   "execution_count": 48,
   "metadata": {},
   "outputs": [
    {
     "name": "stdout",
     "output_type": "stream",
     "text": [
      "1\n",
      "2\n",
      "3\n"
     ]
    }
   ],
   "source": [
    "\n",
    "for i, j in enumerate(test_list):\n",
    "    if j == '1':\n",
    "        print(i)"
   ]
  },
  {
   "cell_type": "code",
   "execution_count": 51,
   "metadata": {
    "collapsed": true
   },
   "outputs": [],
   "source": [
    "def intList(strlist):\n",
    "    site_list = []\n",
    "    for s in strlist:\n",
    "        if (int(s)-1) not in site_list:\n",
    "            site_list.append(int(s)-1)\n",
    "    return site_list"
   ]
  },
  {
   "cell_type": "code",
   "execution_count": 52,
   "metadata": {},
   "outputs": [
    {
     "data": {
      "text/plain": [
       "[1, 0, 2]"
      ]
     },
     "execution_count": 52,
     "metadata": {},
     "output_type": "execute_result"
    }
   ],
   "source": [
    "intList(test_list)"
   ]
  },
  {
   "cell_type": "code",
   "execution_count": 14,
   "metadata": {
    "collapsed": true
   },
   "outputs": [],
   "source": [
    "check_list = []"
   ]
  },
  {
   "cell_type": "code",
   "execution_count": 15,
   "metadata": {},
   "outputs": [
    {
     "ename": "IndexError",
     "evalue": "list index out of range",
     "output_type": "error",
     "traceback": [
      "\u001b[0;31m---------------------------------------------------------------------------\u001b[0m",
      "\u001b[0;31mIndexError\u001b[0m                                Traceback (most recent call last)",
      "\u001b[0;32m<ipython-input-15-12a1a8ecd5b6>\u001b[0m in \u001b[0;36m<module>\u001b[0;34m()\u001b[0m\n\u001b[0;32m----> 1\u001b[0;31m \u001b[0mcheck_list\u001b[0m\u001b[0;34m[\u001b[0m\u001b[0;36m0\u001b[0m\u001b[0;34m]\u001b[0m\u001b[0;34m\u001b[0m\u001b[0m\n\u001b[0m",
      "\u001b[0;31mIndexError\u001b[0m: list index out of range"
     ]
    }
   ],
   "source": []
  },
  {
   "cell_type": "code",
   "execution_count": null,
   "metadata": {
    "collapsed": true
   },
   "outputs": [],
   "source": []
  }
 ],
 "metadata": {
  "kernelspec": {
   "display_name": "Python 3",
   "language": "python",
   "name": "python3"
  },
  "language_info": {
   "codemirror_mode": {
    "name": "ipython",
    "version": 3
   },
   "file_extension": ".py",
   "mimetype": "text/x-python",
   "name": "python",
   "nbconvert_exporter": "python",
   "pygments_lexer": "ipython3",
   "version": "3.6.3"
  }
 },
 "nbformat": 4,
 "nbformat_minor": 2
}
